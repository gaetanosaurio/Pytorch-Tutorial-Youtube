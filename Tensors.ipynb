{
  "nbformat": 4,
  "nbformat_minor": 0,
  "metadata": {
    "colab": {
      "provenance": [],
      "gpuType": "T4",
      "toc_visible": true,
      "authorship_tag": "ABX9TyOstLNQmygK/uMPriyZpQPI",
      "include_colab_link": true
    },
    "kernelspec": {
      "name": "python3",
      "display_name": "Python 3"
    },
    "language_info": {
      "name": "python"
    },
    "accelerator": "GPU"
  },
  "cells": [
    {
      "cell_type": "markdown",
      "metadata": {
        "id": "view-in-github",
        "colab_type": "text"
      },
      "source": [
        "<a href=\"https://colab.research.google.com/github/gaetanosaurio/Pytorch-Tutorial-Youtube/blob/main/Tensors.ipynb\" target=\"_parent\"><img src=\"https://colab.research.google.com/assets/colab-badge.svg\" alt=\"Open In Colab\"/></a>"
      ]
    },
    {
      "cell_type": "code",
      "source": [
        "import torch\n",
        "import numpy as np"
      ],
      "metadata": {
        "id": "KzuhJNuGJgTm"
      },
      "execution_count": null,
      "outputs": []
    },
    {
      "cell_type": "markdown",
      "source": [
        "# **TENSORS**\n",
        "\n",
        "*   A torch.tensor is a multidimensional vector containing elements of a single data type.\n",
        "*   Similar to Numpy Arrays, but full of fun things that make them work better on GPUs (vs. regular CPUs).\n",
        "* Default data type pf float32\n",
        "* More suitable for Deep LEarning than a numpy array.\n",
        "\n"
      ],
      "metadata": {
        "id": "Ng7tqDsOPNPs"
      }
    },
    {
      "cell_type": "code",
      "source": [],
      "metadata": {
        "id": "U-D4JKRGPRlX"
      },
      "execution_count": null,
      "outputs": []
    },
    {
      "cell_type": "markdown",
      "source": [
        "# **LISTS**"
      ],
      "metadata": {
        "id": "IAAzEZ7GO8PN"
      }
    },
    {
      "cell_type": "code",
      "source": [
        "my_list = [[1,2,3,4,5], [6,7,8,9,10]]\n",
        "my_list"
      ],
      "metadata": {
        "id": "UeZFeHZIOVdd"
      },
      "execution_count": null,
      "outputs": []
    },
    {
      "cell_type": "markdown",
      "source": [
        "# **NUMPY ARRAYS**"
      ],
      "metadata": {
        "id": "yseGlrQmQKb8"
      }
    },
    {
      "cell_type": "code",
      "source": [
        "np1 = np.random.rand(3, 4)\n",
        "np1"
      ],
      "metadata": {
        "id": "pX-WBD1pQpq4",
        "outputId": "723029af-caa3-4e17-d477-8491ca078696",
        "colab": {
          "base_uri": "https://localhost:8080/"
        }
      },
      "execution_count": null,
      "outputs": [
        {
          "output_type": "execute_result",
          "data": {
            "text/plain": [
              "array([[0.02218916, 0.46938052, 0.0709323 , 0.8413465 ],\n",
              "       [0.18468173, 0.31422439, 0.97648347, 0.16117429],\n",
              "       [0.78696059, 0.64304666, 0.19351279, 0.99861024]])"
            ]
          },
          "metadata": {},
          "execution_count": 5
        }
      ]
    },
    {
      "cell_type": "code",
      "source": [
        "np1.dtype"
      ],
      "metadata": {
        "id": "V56p-stnQwq-",
        "outputId": "d09b64e5-1759-4c71-bc7c-f42b829bc569",
        "colab": {
          "base_uri": "https://localhost:8080/"
        }
      },
      "execution_count": null,
      "outputs": [
        {
          "output_type": "execute_result",
          "data": {
            "text/plain": [
              "dtype('float64')"
            ]
          },
          "metadata": {},
          "execution_count": 6
        }
      ]
    },
    {
      "cell_type": "code",
      "source": [],
      "metadata": {
        "id": "0oVB0kqyQ7C6"
      },
      "execution_count": null,
      "outputs": []
    },
    {
      "cell_type": "markdown",
      "source": [
        "# **TENSORS**"
      ],
      "metadata": {
        "id": "mYSpm2eWRDhJ"
      }
    },
    {
      "cell_type": "code",
      "source": [
        "tensor_2d = torch.rand(3, 4)\n",
        "tensor_2d, tensor_2d.dtype"
      ],
      "metadata": {
        "id": "Cd50fUsQRIH7",
        "outputId": "d6415633-2d57-4412-979c-433c6e1dd87d",
        "colab": {
          "base_uri": "https://localhost:8080/"
        }
      },
      "execution_count": null,
      "outputs": [
        {
          "output_type": "execute_result",
          "data": {
            "text/plain": [
              "(tensor([[0.2176, 0.0928, 0.5873, 0.7872],\n",
              "         [0.6579, 0.2370, 0.9185, 0.9169],\n",
              "         [0.8835, 0.1778, 0.8417, 0.2856]]),\n",
              " torch.float32)"
            ]
          },
          "metadata": {},
          "execution_count": 11
        }
      ]
    },
    {
      "cell_type": "code",
      "source": [
        "tensor_3d = torch.rand(2,3,4)\n",
        "tensor_3d"
      ],
      "metadata": {
        "id": "K01QRpk7RQr2",
        "outputId": "afd43862-0c18-4de6-cc68-cf62db6538d7",
        "colab": {
          "base_uri": "https://localhost:8080/"
        }
      },
      "execution_count": null,
      "outputs": [
        {
          "output_type": "execute_result",
          "data": {
            "text/plain": [
              "tensor([[[0.9714, 0.5285, 0.6625, 0.8429],\n",
              "         [0.9032, 0.7504, 0.0255, 0.2738],\n",
              "         [0.2743, 0.1958, 0.9490, 0.4917]],\n",
              "\n",
              "        [[0.3085, 0.4116, 0.7336, 0.8823],\n",
              "         [0.5894, 0.9935, 0.8474, 0.0313],\n",
              "         [0.2274, 0.8538, 0.4295, 0.7866]]])"
            ]
          },
          "metadata": {},
          "execution_count": 9
        }
      ]
    },
    {
      "cell_type": "code",
      "source": [
        "# Create tensor out of numpy array - - it will have a float64 data type, as in numpy\n",
        "my_tensor = torch.tensor(np1)\n",
        "my_tensor"
      ],
      "metadata": {
        "id": "qXrGZegiSGgT",
        "outputId": "6ff105d4-f85c-4284-d7ff-f03e8ab1af4e",
        "colab": {
          "base_uri": "https://localhost:8080/"
        }
      },
      "execution_count": null,
      "outputs": [
        {
          "output_type": "execute_result",
          "data": {
            "text/plain": [
              "tensor([[0.0222, 0.4694, 0.0709, 0.8413],\n",
              "        [0.1847, 0.3142, 0.9765, 0.1612],\n",
              "        [0.7870, 0.6430, 0.1935, 0.9986]], dtype=torch.float64)"
            ]
          },
          "metadata": {},
          "execution_count": 13
        }
      ]
    },
    {
      "cell_type": "code",
      "source": [],
      "metadata": {
        "id": "k5vTvivYSWzo"
      },
      "execution_count": null,
      "outputs": []
    }
  ]
}